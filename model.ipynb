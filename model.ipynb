{
 "cells": [
  {
   "cell_type": "code",
   "execution_count": 1,
   "metadata": {
    "collapsed": true
   },
   "outputs": [],
   "source": [
    "import pandas as pd"
   ]
  },
  {
   "cell_type": "code",
   "execution_count": 2,
   "outputs": [],
   "source": [
    "data=pd.read_csv(\"Dataset.csv\")"
   ],
   "metadata": {
    "collapsed": false,
    "pycharm": {
     "name": "#%%\n"
    }
   }
  },
  {
   "cell_type": "code",
   "execution_count": 3,
   "outputs": [
    {
     "data": {
      "text/plain": "       Unnamed: 0                                            signals  age  \\\n0               0  [[-0.107 -0.112 -0.005 ... -0.083 -0.088 -0.07...   68   \n1               1  [[ 0.02  -0.02  -0.039 ... -0.039  0.088  0.01...   27   \n2               2  [[-0.034 -0.112 -0.078 ... -0.176 -0.063 -1.38...   17   \n3               3  [[-0.215 -0.01   0.205 ...  0.098  0.059  0.01...   60   \n4               4  [[-0.068 -0.039  0.029 ... -0.156 -0.083 -0.03...   76   \n...           ...                                                ...  ...   \n10242       10242  [[-0.127 -0.264 -0.137 ... -4.87  -2.137 -5.68...   63   \n10243       10243  [[-0.063 -0.059  0.005 ...  0.493 -0.068 -0.03...   77   \n10244       10244  [[-0.171  1.459  1.63  ...  1.108  1.113  1.54...   27   \n10245       10245  [[-0.01  -0.073 -0.063 ...  0.059 -0.268 -0.30...   69   \n10246       10246  [[-0.034 -0.068 -0.034 ... -0.073 -0.166  0.18...   89   \n\n          sex  \n0        Male  \n1      Female  \n2        Male  \n3        Male  \n4        Male  \n...       ...  \n10242    Male  \n10243    Male  \n10244    Male  \n10245    Male  \n10246    Male  \n\n[10247 rows x 4 columns]",
      "text/html": "<div>\n<style scoped>\n    .dataframe tbody tr th:only-of-type {\n        vertical-align: middle;\n    }\n\n    .dataframe tbody tr th {\n        vertical-align: top;\n    }\n\n    .dataframe thead th {\n        text-align: right;\n    }\n</style>\n<table border=\"1\" class=\"dataframe\">\n  <thead>\n    <tr style=\"text-align: right;\">\n      <th></th>\n      <th>Unnamed: 0</th>\n      <th>signals</th>\n      <th>age</th>\n      <th>sex</th>\n    </tr>\n  </thead>\n  <tbody>\n    <tr>\n      <th>0</th>\n      <td>0</td>\n      <td>[[-0.107 -0.112 -0.005 ... -0.083 -0.088 -0.07...</td>\n      <td>68</td>\n      <td>Male</td>\n    </tr>\n    <tr>\n      <th>1</th>\n      <td>1</td>\n      <td>[[ 0.02  -0.02  -0.039 ... -0.039  0.088  0.01...</td>\n      <td>27</td>\n      <td>Female</td>\n    </tr>\n    <tr>\n      <th>2</th>\n      <td>2</td>\n      <td>[[-0.034 -0.112 -0.078 ... -0.176 -0.063 -1.38...</td>\n      <td>17</td>\n      <td>Male</td>\n    </tr>\n    <tr>\n      <th>3</th>\n      <td>3</td>\n      <td>[[-0.215 -0.01   0.205 ...  0.098  0.059  0.01...</td>\n      <td>60</td>\n      <td>Male</td>\n    </tr>\n    <tr>\n      <th>4</th>\n      <td>4</td>\n      <td>[[-0.068 -0.039  0.029 ... -0.156 -0.083 -0.03...</td>\n      <td>76</td>\n      <td>Male</td>\n    </tr>\n    <tr>\n      <th>...</th>\n      <td>...</td>\n      <td>...</td>\n      <td>...</td>\n      <td>...</td>\n    </tr>\n    <tr>\n      <th>10242</th>\n      <td>10242</td>\n      <td>[[-0.127 -0.264 -0.137 ... -4.87  -2.137 -5.68...</td>\n      <td>63</td>\n      <td>Male</td>\n    </tr>\n    <tr>\n      <th>10243</th>\n      <td>10243</td>\n      <td>[[-0.063 -0.059  0.005 ...  0.493 -0.068 -0.03...</td>\n      <td>77</td>\n      <td>Male</td>\n    </tr>\n    <tr>\n      <th>10244</th>\n      <td>10244</td>\n      <td>[[-0.171  1.459  1.63  ...  1.108  1.113  1.54...</td>\n      <td>27</td>\n      <td>Male</td>\n    </tr>\n    <tr>\n      <th>10245</th>\n      <td>10245</td>\n      <td>[[-0.01  -0.073 -0.063 ...  0.059 -0.268 -0.30...</td>\n      <td>69</td>\n      <td>Male</td>\n    </tr>\n    <tr>\n      <th>10246</th>\n      <td>10246</td>\n      <td>[[-0.034 -0.068 -0.034 ... -0.073 -0.166  0.18...</td>\n      <td>89</td>\n      <td>Male</td>\n    </tr>\n  </tbody>\n</table>\n<p>10247 rows × 4 columns</p>\n</div>"
     },
     "execution_count": 3,
     "metadata": {},
     "output_type": "execute_result"
    }
   ],
   "source": [
    "data"
   ],
   "metadata": {
    "collapsed": false,
    "pycharm": {
     "name": "#%%\n"
    }
   }
  },
  {
   "cell_type": "code",
   "execution_count": null,
   "outputs": [],
   "source": [],
   "metadata": {
    "collapsed": false,
    "pycharm": {
     "name": "#%%\n"
    }
   }
  }
 ],
 "metadata": {
  "kernelspec": {
   "display_name": "Python 3",
   "language": "python",
   "name": "python3"
  },
  "language_info": {
   "codemirror_mode": {
    "name": "ipython",
    "version": 2
   },
   "file_extension": ".py",
   "mimetype": "text/x-python",
   "name": "python",
   "nbconvert_exporter": "python",
   "pygments_lexer": "ipython2",
   "version": "2.7.6"
  }
 },
 "nbformat": 4,
 "nbformat_minor": 0
}