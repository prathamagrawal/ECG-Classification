{
 "cells": [
  {
   "cell_type": "code",
   "execution_count": 1,
   "outputs": [],
   "source": [
    "import os\n",
    "import scipy\n",
    "import numpy as np\n",
    "import pandas as pd\n",
    "import re"
   ],
   "metadata": {
    "collapsed": false,
    "pycharm": {
     "name": "#%%\n"
    }
   }
  },
  {
   "cell_type": "code",
   "execution_count": 2,
   "outputs": [],
   "source": [
    "directory='//Users//prathamagrawal//Desktop//projects//ECG//dataset'"
   ],
   "metadata": {
    "collapsed": false,
    "pycharm": {
     "name": "#%%\n"
    }
   }
  },
  {
   "cell_type": "code",
   "execution_count": 9,
   "outputs": [],
   "source": [
    "def dataloader(directory):\n",
    "    l=[]\n",
    "    for filename in os.listdir(directory):\n",
    "        if filename.endswith('.mat'):\n",
    "            filename = directory + \"/\" + filename\n",
    "            temp=scipy.io.loadmat(filename)\n",
    "            temp=np.array(temp['val'])\n",
    "            l.append(temp)\n",
    "    return l\n",
    "\n",
    "l=dataloader(directory)"
   ],
   "metadata": {
    "collapsed": false,
    "pycharm": {
     "name": "#%%\n"
    }
   }
  },
  {
   "cell_type": "code",
   "execution_count": 15,
   "outputs": [
    {
     "name": "stdout",
     "output_type": "stream",
     "text": [
      "[[ -15  -44    0 ...  -15  -10   -5]\n",
      " [ -68  -93  -44 ...    5  -20   10]\n",
      " [ -54  -49  -44 ...   20  -10   15]\n",
      " ...\n",
      " [-195 -210 -195 ...   15   24   59]\n",
      " [-254 -268 -259 ...  -39  -24   20]\n",
      " [-264 -283 -283 ...  -34  -24    5]]\n"
     ]
    }
   ],
   "source": [
    "print(l[0])"
   ],
   "metadata": {
    "collapsed": false,
    "pycharm": {
     "name": "#%%\n"
    }
   }
  },
  {
   "cell_type": "code",
   "execution_count": 40,
   "outputs": [
    {
     "name": "stdout",
     "output_type": "stream",
     "text": [
      "(5000, 12)\n",
      "{'fs': 500, 'sig_len': 5000, 'n_sig': 12, 'base_date': None, 'base_time': datetime.time(0, 0, 23), 'units': ['mV', 'mV', 'mV', 'mV', 'mV', 'mV', 'mV', 'mV', 'mV', 'mV', 'mV', 'mV'], 'sig_name': ['I', 'II', 'III', 'aVR', 'aVL', 'aVF', 'V1', 'V2', 'V3', 'V4', 'V5', 'V6'], 'comments': ['Age: 85', 'Sex: Male', 'Dx: 164889003,59118001,164934002', 'Rx: Unknown', 'Hx: Unknown', 'Sx: Unknown']}\n"
     ]
    }
   ],
   "source": [
    "import wfdb\n",
    "signals,fields=wfdb.rdsamp('dataset/JS00001')\n",
    "print(signals.shape)\n",
    "fiels2=fields['comments']\n",
    "re.sub('Sex: ','','Sex: Male')\n",
    "print(fields)"
   ],
   "metadata": {
    "collapsed": false,
    "pycharm": {
     "name": "#%%\n"
    }
   }
  },
  {
   "cell_type": "code",
   "execution_count": 29,
   "outputs": [],
   "source": [
    "def return_sex(text):\n",
    "   text=re.sub('Sex: ','',text)\n",
    "   return text"
   ],
   "metadata": {
    "collapsed": false,
    "pycharm": {
     "name": "#%%\n"
    }
   }
  },
  {
   "cell_type": "code",
   "execution_count": 30,
   "outputs": [],
   "source": [
    "def return_age(text):\n",
    "   text=re.sub('Age: ','',text)\n",
    "   return text"
   ],
   "metadata": {
    "collapsed": false,
    "pycharm": {
     "name": "#%%\n"
    }
   }
  },
  {
   "cell_type": "code",
   "execution_count": 73,
   "outputs": [],
   "source": [
    "def read_data(directory):\n",
    "    data_signal=[]\n",
    "    data_attribute=[]\n",
    "    sex=[]\n",
    "    age=[]\n",
    "    for filename in os.listdir(directory):\n",
    "        if filename.endswith('.hea'):\n",
    "            filename=directory+'/'+filename\n",
    "            filename=re.sub('.hea','',filename)\n",
    "            signals,fields=wfdb.rdsamp(filename)\n",
    "            data_signal.append(signals)\n",
    "            comments=fields['comments']\n",
    "            agev=return_age(comments[0])\n",
    "            age.append(agev)\n",
    "            sexv=return_sex(comments[1])\n",
    "            sex.append(sexv)\n",
    "            data_attribute.append(age)\n",
    "            data_attribute.append(sex)\n",
    "    return data_signal,age,sex"
   ],
   "metadata": {
    "collapsed": false,
    "pycharm": {
     "name": "#%%\n"
    }
   }
  },
  {
   "cell_type": "code",
   "execution_count": 74,
   "outputs": [],
   "source": [
    "data_signal,age,sex=read_data(directory)"
   ],
   "metadata": {
    "collapsed": false,
    "pycharm": {
     "name": "#%%\n"
    }
   }
  },
  {
   "cell_type": "code",
   "execution_count": 79,
   "outputs": [
    {
     "data": {
      "text/plain": "                                                 signals age     sex\n0      [[-0.107, -0.112, -0.005, 0.112, -0.054, -0.05...  68    Male\n1      [[0.02, -0.02, -0.039, 0.0, 0.029, -0.029, 0.0...  27  Female\n2      [[-0.034, -0.112, -0.078, 0.073, 0.02, -0.098,...  17    Male\n3      [[-0.215, -0.01, 0.205, 0.112, -0.21, 0.098, 0...  60    Male\n4      [[-0.068, -0.039, 0.029, 0.054, -0.049, -0.005...  76    Male\n...                                                  ...  ..     ...\n10242  [[-0.127, -0.264, -0.137, 0.195, 0.005, -0.2, ...  63    Male\n10243  [[-0.063, -0.059, 0.005, 0.063, -0.034, -0.029...  77    Male\n10244  [[-0.171, 1.459, 1.63, -0.644, -0.903, 1.542, ...  27    Male\n10245  [[-0.01, -0.073, -0.063, 0.044, 0.024, -0.068,...  69    Male\n10246  [[-0.034, -0.068, -0.034, 0.054, 0.0, -0.054, ...  89    Male\n\n[10247 rows x 3 columns]",
      "text/html": "<div>\n<style scoped>\n    .dataframe tbody tr th:only-of-type {\n        vertical-align: middle;\n    }\n\n    .dataframe tbody tr th {\n        vertical-align: top;\n    }\n\n    .dataframe thead th {\n        text-align: right;\n    }\n</style>\n<table border=\"1\" class=\"dataframe\">\n  <thead>\n    <tr style=\"text-align: right;\">\n      <th></th>\n      <th>signals</th>\n      <th>age</th>\n      <th>sex</th>\n    </tr>\n  </thead>\n  <tbody>\n    <tr>\n      <th>0</th>\n      <td>[[-0.107, -0.112, -0.005, 0.112, -0.054, -0.05...</td>\n      <td>68</td>\n      <td>Male</td>\n    </tr>\n    <tr>\n      <th>1</th>\n      <td>[[0.02, -0.02, -0.039, 0.0, 0.029, -0.029, 0.0...</td>\n      <td>27</td>\n      <td>Female</td>\n    </tr>\n    <tr>\n      <th>2</th>\n      <td>[[-0.034, -0.112, -0.078, 0.073, 0.02, -0.098,...</td>\n      <td>17</td>\n      <td>Male</td>\n    </tr>\n    <tr>\n      <th>3</th>\n      <td>[[-0.215, -0.01, 0.205, 0.112, -0.21, 0.098, 0...</td>\n      <td>60</td>\n      <td>Male</td>\n    </tr>\n    <tr>\n      <th>4</th>\n      <td>[[-0.068, -0.039, 0.029, 0.054, -0.049, -0.005...</td>\n      <td>76</td>\n      <td>Male</td>\n    </tr>\n    <tr>\n      <th>...</th>\n      <td>...</td>\n      <td>...</td>\n      <td>...</td>\n    </tr>\n    <tr>\n      <th>10242</th>\n      <td>[[-0.127, -0.264, -0.137, 0.195, 0.005, -0.2, ...</td>\n      <td>63</td>\n      <td>Male</td>\n    </tr>\n    <tr>\n      <th>10243</th>\n      <td>[[-0.063, -0.059, 0.005, 0.063, -0.034, -0.029...</td>\n      <td>77</td>\n      <td>Male</td>\n    </tr>\n    <tr>\n      <th>10244</th>\n      <td>[[-0.171, 1.459, 1.63, -0.644, -0.903, 1.542, ...</td>\n      <td>27</td>\n      <td>Male</td>\n    </tr>\n    <tr>\n      <th>10245</th>\n      <td>[[-0.01, -0.073, -0.063, 0.044, 0.024, -0.068,...</td>\n      <td>69</td>\n      <td>Male</td>\n    </tr>\n    <tr>\n      <th>10246</th>\n      <td>[[-0.034, -0.068, -0.034, 0.054, 0.0, -0.054, ...</td>\n      <td>89</td>\n      <td>Male</td>\n    </tr>\n  </tbody>\n</table>\n<p>10247 rows × 3 columns</p>\n</div>"
     },
     "execution_count": 79,
     "metadata": {},
     "output_type": "execute_result"
    }
   ],
   "source": [
    "d={\"signals\":data_signal,\"age\":age,\"sex\":sex}\n",
    "data=pd.DataFrame(d)\n",
    "data"
   ],
   "metadata": {
    "collapsed": false,
    "pycharm": {
     "name": "#%%)\n"
    }
   }
  },
  {
   "cell_type": "code",
   "execution_count": 80,
   "outputs": [],
   "source": [
    "data.to_csv(\"Dataset.csv\")\n",
    "\n"
   ],
   "metadata": {
    "collapsed": false,
    "pycharm": {
     "name": "#%%\n"
    }
   }
  },
  {
   "cell_type": "code",
   "execution_count": null,
   "outputs": [],
   "source": [],
   "metadata": {
    "collapsed": false,
    "pycharm": {
     "name": "#%%\n"
    }
   }
  }
 ],
 "metadata": {
  "kernelspec": {
   "name": "pycharm-7a2b673c",
   "language": "python",
   "display_name": "PyCharm (ECG)"
  },
  "language_info": {
   "codemirror_mode": {
    "name": "ipython",
    "version": 2
   },
   "file_extension": ".py",
   "mimetype": "text/x-python",
   "name": "python",
   "nbconvert_exporter": "python",
   "pygments_lexer": "ipython2",
   "version": "2.7.6"
  }
 },
 "nbformat": 4,
 "nbformat_minor": 0
}